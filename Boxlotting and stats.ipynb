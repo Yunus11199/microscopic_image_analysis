{
 "cells": [
  {
   "cell_type": "code",
   "execution_count": 1,
   "id": "b0aa65ab",
   "metadata": {},
   "outputs": [],
   "source": [
    "import matplotlib.pyplot as plt # for boxplot\n",
    "import pandas as pd # for data handling\n",
    "import scipy.stats as ss # for ANOVA\n",
    "import scikit_posthocs as sp #for post-hoc testing"
   ]
  },
  {
   "cell_type": "code",
   "execution_count": 2,
   "id": "4f7a46e7",
   "metadata": {},
   "outputs": [],
   "source": [
    "path = 'C:/Users/Yunus/Documents/AAA Uni/Experimental Design and Practise/6) Image analysis microscope'"
   ]
  },
  {
   "cell_type": "code",
   "execution_count": 3,
   "id": "34d28490",
   "metadata": {},
   "outputs": [],
   "source": [
    "filename1 = 'fish1nuclear_shapedata.csv' #change here the file name, etc.\n",
    "filename2 = 'fish2nuclear_shapedata.csv'\n",
    "filename3 = 'fish3nuclear_shapedata.csv'\n",
    "filename4 = 'fish4nuclear_shapedata.csv'\n",
    "filename5 = 'fish5nuclear_shapedata.csv'\n",
    "filename6 = 'bird1nuclear_shapedata.csv'\n",
    "filename7 = 'bird2nuclear_shapedata.csv'\n",
    "filename8 = 'bird3nuclear_shapedata.csv'\n",
    "filename9 = 'bird4nuclear_shapedata.csv'\n",
    "filename10 = 'bird5nuclear_shapedata.csv'\n",
    "filename11 = 'frog1nuclear_shapedata.csv'\n",
    "filename12 = 'frog2nuclear_shapedata.csv'\n",
    "filename13 = 'frog3nuclear_shapedata.csv'\n",
    "filename14 = 'frog4nuclear_shapedata.csv'\n",
    "filename15 = 'frog5nuclear_shapedata.csv'\n"
   ]
  },
  {
   "cell_type": "code",
   "execution_count": 4,
   "id": "d2e6a7af",
   "metadata": {},
   "outputs": [],
   "source": [
    "df1 = pd.read_csv(filename1) #etc for the other files\n",
    "df2 = pd.read_csv(filename2) \n",
    "df3 = pd.read_csv(filename3) \n",
    "df4 = pd.read_csv(filename4) \n",
    "df5 = pd.read_csv(filename5) \n",
    "df6 = pd.read_csv(filename6) \n",
    "df7 = pd.read_csv(filename7) \n",
    "df8 = pd.read_csv(filename8) \n",
    "df9 = pd.read_csv(filename9) \n",
    "df10 = pd.read_csv(filename10) \n",
    "df11 = pd.read_csv(filename11) \n",
    "df12 = pd.read_csv(filename12) \n",
    "df13 = pd.read_csv(filename13) \n",
    "df14 = pd.read_csv(filename14) \n",
    "df15 = pd.read_csv(filename15) \n"
   ]
  },
  {
   "cell_type": "code",
   "execution_count": 5,
   "id": "829d36ae",
   "metadata": {},
   "outputs": [],
   "source": [
    "allBird=pd.concat([df1,df2,df3,df4,df5])\n",
    "allFish=pd.concat([df6,df7,df8,df9,df10])\n",
    "allFrog=pd.concat([df11,df12,df13,df14,df15])\n",
    "\n",
    "\n",
    "Areas=[allFish[\"area\"],allFrog[\"area\"],allBird[\"area\"]]\n",
    "Perimeter=[allFish[\"perimeter\"],allFrog[\"perimeter\"],allBird[\"perimeter\"]]\n",
    "Eccentricities=[allFish[\"eccentricity\"],allFrog[\"eccentricity\"],allBird[\"eccentricity\"]] # repeat the same for perimeter, eccentricity, and solidity\n",
    "Solidity=[allFish[\"solidity\"],allFrog[\"solidity\"],allBird[\"solidity\"]]\n",
    "\n",
    "factor = 3.5\n",
    "\n",
    "Areas_μm2 = [value * (factor**2) for value in Areas] #change “factor” to conversion factor; same for perimeter\n",
    "Perimeter_μm = [value * factor for value in Perimeter]"
   ]
  },
  {
   "cell_type": "code",
   "execution_count": 6,
   "id": "bc747eb3",
   "metadata": {},
   "outputs": [
    {
     "name": "stdout",
     "output_type": "stream",
     "text": [
      "0.6313490534844131 0.6410654555525446 0.14906888821726172 1557\n",
      "0.7493855919642834 0.7820502451124274 0.1291849774530909 390\n",
      "0.5908327473846449 0.6011308069439758 0.18003666963101525 1482\n",
      "279.0714388469295 316.49242404917493 123.8412003925305 1557\n",
      "493.806765103984 591.5124996811387 223.71488235097974 390\n",
      "261.1945220723459 192.2210857587404 157.08515638344886 1482\n",
      "5512.413455362877 4128.25 3762.510557106323 1557\n",
      "17517.845512820513 23305.625 12123.391743260292 390\n",
      "4406.916835357625 2468.375 4074.477222491899 1482\n",
      "0.9198925353837342 0.9575471698113208 0.10323788892327398 1557\n",
      "0.939124091404538 0.9598384541492229 0.05718302428335174 390\n",
      "0.9001178506309958 0.9482758620689656 0.14673495807093126 1482\n"
     ]
    }
   ],
   "source": [
    "for df in Eccentricities:\n",
    "    print(df.mean(),df.median(),df.std(),df.count())\n",
    "\n",
    "for df in Perimeter_μm:\n",
    "    print(df.mean(),df.median(),df.std(),df.count())\n",
    "\n",
    "for df in Areas_μm2:\n",
    "    print(df.mean(),df.median(),df.std(),df.count())\n",
    "\n",
    "for df in Solidity:\n",
    "    print(df.mean(),df.median(),df.std(),df.count())\n",
    "\n"
   ]
  },
  {
   "cell_type": "code",
   "execution_count": 7,
   "id": "36f1b533",
   "metadata": {},
   "outputs": [
    {
     "data": {
      "text/plain": [
       "{'whiskers': [<matplotlib.lines.Line2D at 0x265a7623c70>,\n",
       "  <matplotlib.lines.Line2D at 0x265a7623fd0>,\n",
       "  <matplotlib.lines.Line2D at 0x265a7647820>,\n",
       "  <matplotlib.lines.Line2D at 0x265a7647b80>,\n",
       "  <matplotlib.lines.Line2D at 0x265a765f3a0>,\n",
       "  <matplotlib.lines.Line2D at 0x265a765f700>],\n",
       " 'caps': [<matplotlib.lines.Line2D at 0x265a763b370>,\n",
       "  <matplotlib.lines.Line2D at 0x265a763b6d0>,\n",
       "  <matplotlib.lines.Line2D at 0x265a7647ee0>,\n",
       "  <matplotlib.lines.Line2D at 0x265a7653280>,\n",
       "  <matplotlib.lines.Line2D at 0x265a765fa60>,\n",
       "  <matplotlib.lines.Line2D at 0x265a765fdc0>],\n",
       " 'boxes': [<matplotlib.lines.Line2D at 0x265a7623910>,\n",
       "  <matplotlib.lines.Line2D at 0x265a76474c0>,\n",
       "  <matplotlib.lines.Line2D at 0x265a765f040>],\n",
       " 'medians': [<matplotlib.lines.Line2D at 0x265a763ba30>,\n",
       "  <matplotlib.lines.Line2D at 0x265a76535e0>,\n",
       "  <matplotlib.lines.Line2D at 0x265a766b160>],\n",
       " 'fliers': [<matplotlib.lines.Line2D at 0x265a7647130>,\n",
       "  <matplotlib.lines.Line2D at 0x265a7653ca0>,\n",
       "  <matplotlib.lines.Line2D at 0x265a766b820>],\n",
       " 'means': [<matplotlib.lines.Line2D at 0x265a763bd90>,\n",
       "  <matplotlib.lines.Line2D at 0x265a7653940>,\n",
       "  <matplotlib.lines.Line2D at 0x265a766b4c0>]}"
      ]
     },
     "execution_count": 7,
     "metadata": {},
     "output_type": "execute_result"
    },
    {
     "data": {
      "image/png": "[encoded data removed]",
      "text/plain": [
       "<Figure size 432x288 with 1 Axes>"
      ]
     },
     "metadata": {
      "needs_background": "light"
     },
     "output_type": "display_data"
    }
   ],
   "source": [
    "plt.boxplot(Eccentricities, labels= ['Fish', 'Frog', 'Bird'], showmeans= True)"
   ]
  },
  {
   "cell_type": "code",
   "execution_count": 8,
   "id": "ee6376c9",
   "metadata": {},
   "outputs": [
    {
     "data": {
      "text/plain": [
       "{'whiskers': [<matplotlib.lines.Line2D at 0x265a8715ca0>,\n",
       "  <matplotlib.lines.Line2D at 0x265a8724040>,\n",
       "  <matplotlib.lines.Line2D at 0x265a8733820>,\n",
       "  <matplotlib.lines.Line2D at 0x265a8733b80>,\n",
       "  <matplotlib.lines.Line2D at 0x265a87483a0>,\n",
       "  <matplotlib.lines.Line2D at 0x265a8748700>],\n",
       " 'caps': [<matplotlib.lines.Line2D at 0x265a87243a0>,\n",
       "  <matplotlib.lines.Line2D at 0x265a8724700>,\n",
       "  <matplotlib.lines.Line2D at 0x265a8733ee0>,\n",
       "  <matplotlib.lines.Line2D at 0x265a873a280>,\n",
       "  <matplotlib.lines.Line2D at 0x265a8748a60>,\n",
       "  <matplotlib.lines.Line2D at 0x265a8748dc0>],\n",
       " 'boxes': [<matplotlib.lines.Line2D at 0x265a8715940>,\n",
       "  <matplotlib.lines.Line2D at 0x265a87334c0>,\n",
       "  <matplotlib.lines.Line2D at 0x265a8748040>],\n",
       " 'medians': [<matplotlib.lines.Line2D at 0x265a8724a60>,\n",
       "  <matplotlib.lines.Line2D at 0x265a873a5e0>,\n",
       "  <matplotlib.lines.Line2D at 0x265a8755160>],\n",
       " 'fliers': [<matplotlib.lines.Line2D at 0x265a8733160>,\n",
       "  <matplotlib.lines.Line2D at 0x265a873aca0>,\n",
       "  <matplotlib.lines.Line2D at 0x265a8755820>],\n",
       " 'means': [<matplotlib.lines.Line2D at 0x265a8724dc0>,\n",
       "  <matplotlib.lines.Line2D at 0x265a873a940>,\n",
       "  <matplotlib.lines.Line2D at 0x265a87554c0>]}"
      ]
     },
     "execution_count": 8,
     "metadata": {},
     "output_type": "execute_result"
    },
    {
     "data": {
      "image/png": "[encoded data removed]",
      "text/plain": [
       "<Figure size 432x288 with 1 Axes>"
      ]
     },
     "metadata": {
      "needs_background": "light"
     },
     "output_type": "display_data"
    }
   ],
   "source": [
    "plt.boxplot(Perimeter_μm, labels= ['Fish', 'Frog', 'Bird'], showmeans= True)"
   ]
  },
  {
   "cell_type": "code",
   "execution_count": 9,
   "id": "d8065fb6",
   "metadata": {},
   "outputs": [
    {
     "data": {
      "text/plain": [
       "{'whiskers': [<matplotlib.lines.Line2D at 0x265a87bc670>,\n",
       "  <matplotlib.lines.Line2D at 0x265a87bc9d0>,\n",
       "  <matplotlib.lines.Line2D at 0x265a87d41f0>,\n",
       "  <matplotlib.lines.Line2D at 0x265a87d4550>,\n",
       "  <matplotlib.lines.Line2D at 0x265a87ded30>,\n",
       "  <matplotlib.lines.Line2D at 0x265a87eb0d0>],\n",
       " 'caps': [<matplotlib.lines.Line2D at 0x265a87bcd30>,\n",
       "  <matplotlib.lines.Line2D at 0x265a87c50d0>,\n",
       "  <matplotlib.lines.Line2D at 0x265a87d48b0>,\n",
       "  <matplotlib.lines.Line2D at 0x265a87d4c10>,\n",
       "  <matplotlib.lines.Line2D at 0x265a87eb430>,\n",
       "  <matplotlib.lines.Line2D at 0x265a87eb730>],\n",
       " 'boxes': [<matplotlib.lines.Line2D at 0x265a87bc310>,\n",
       "  <matplotlib.lines.Line2D at 0x265a87c5e50>,\n",
       "  <matplotlib.lines.Line2D at 0x265a87de9d0>],\n",
       " 'medians': [<matplotlib.lines.Line2D at 0x265a87c5430>,\n",
       "  <matplotlib.lines.Line2D at 0x265a87d4f70>,\n",
       "  <matplotlib.lines.Line2D at 0x265a87eba90>],\n",
       " 'fliers': [<matplotlib.lines.Line2D at 0x265a87c5af0>,\n",
       "  <matplotlib.lines.Line2D at 0x265a87de670>,\n",
       "  <matplotlib.lines.Line2D at 0x265a87f6190>],\n",
       " 'means': [<matplotlib.lines.Line2D at 0x265a87c5790>,\n",
       "  <matplotlib.lines.Line2D at 0x265a87de310>,\n",
       "  <matplotlib.lines.Line2D at 0x265a87ebdf0>]}"
      ]
     },
     "execution_count": 9,
     "metadata": {},
     "output_type": "execute_result"
    },
    {
     "data": {
      "image/png": "[encoded data removed]",
      "text/plain": [
       "<Figure size 432x288 with 1 Axes>"
      ]
     },
     "metadata": {
      "needs_background": "light"
     },
     "output_type": "display_data"
    }
   ],
   "source": [
    "plt.boxplot(Areas_μm2, labels= ['Fish', 'Frog', 'Bird'], showmeans= True)"
   ]
  },
  {
   "cell_type": "code",
   "execution_count": 10,
   "id": "dd064735",
   "metadata": {},
   "outputs": [
    {
     "data": {
      "text/plain": [
       "{'whiskers': [<matplotlib.lines.Line2D at 0x2377bae94c0>,\n",
       "  <matplotlib.lines.Line2D at 0x2377bae9820>,\n",
       "  <matplotlib.lines.Line2D at 0x2377bb01040>,\n",
       "  <matplotlib.lines.Line2D at 0x2377bb013a0>,\n",
       "  <matplotlib.lines.Line2D at 0x2377bb0cbb0>,\n",
       "  <matplotlib.lines.Line2D at 0x2377bb0cf10>],\n",
       " 'caps': [<matplotlib.lines.Line2D at 0x2377bae9b80>,\n",
       "  <matplotlib.lines.Line2D at 0x2377bae9ee0>,\n",
       "  <matplotlib.lines.Line2D at 0x2377bb01700>,\n",
       "  <matplotlib.lines.Line2D at 0x2377bb01a60>,\n",
       "  <matplotlib.lines.Line2D at 0x2377bb182b0>,\n",
       "  <matplotlib.lines.Line2D at 0x2377bb18610>],\n",
       " 'boxes': [<matplotlib.lines.Line2D at 0x2377bae9160>,\n",
       "  <matplotlib.lines.Line2D at 0x2377baf5ca0>,\n",
       "  <matplotlib.lines.Line2D at 0x2377bb0c850>],\n",
       " 'medians': [<matplotlib.lines.Line2D at 0x2377baf5280>,\n",
       "  <matplotlib.lines.Line2D at 0x2377bb01dc0>,\n",
       "  <matplotlib.lines.Line2D at 0x2377bb18970>],\n",
       " 'fliers': [<matplotlib.lines.Line2D at 0x2377baf5940>,\n",
       "  <matplotlib.lines.Line2D at 0x2377bb0c4c0>,\n",
       "  <matplotlib.lines.Line2D at 0x2377bb25070>],\n",
       " 'means': [<matplotlib.lines.Line2D at 0x2377baf55e0>,\n",
       "  <matplotlib.lines.Line2D at 0x2377bb0c160>,\n",
       "  <matplotlib.lines.Line2D at 0x2377bb18cd0>]}"
      ]
     },
     "execution_count": 10,
     "metadata": {},
     "output_type": "execute_result"
    },
    {
     "data": {
      "image/png": "[encoded data removed]",
      "text/plain": [
       "<Figure size 432x288 with 1 Axes>"
      ]
     },
     "metadata": {
      "needs_background": "light"
     },
     "output_type": "display_data"
    }
   ],
   "source": [
    "plt.boxplot(Solidity, labels= ['Fish', 'Frog', 'Bird'], showmeans= True)"
   ]
  },
  {
   "cell_type": "code",
   "execution_count": 11,
   "id": "161e73be",
   "metadata": {},
   "outputs": [
    {
     "name": "stdout",
     "output_type": "stream",
     "text": [
      "F_onewayResult(statistic=913.0488622061338, pvalue=1.44764e-318)\n",
      "F_onewayResult(statistic=375.3168696553395, pvalue=4.122257214019081e-148)\n",
      "F_onewayResult(statistic=150.18427839285366, pvalue=3.007174289967383e-63)\n",
      "F_onewayResult(statistic=20.148633852191818, pvalue=1.9981204566121405e-09)\n"
     ]
    }
   ],
   "source": [
    "all_areas = ss.stats.f_oneway(allFish [\"area\"],allFrog[\"area\"],allBird[\"area\"]) # etc for the other measurements\n",
    "all_perimeter = ss.stats.f_oneway(allFish [\"perimeter\"],allFrog[\"perimeter\"],allBird[\"perimeter\"])\n",
    "all_eccentricity = ss.stats.f_oneway(allFish [\"eccentricity\"],allFrog[\"eccentricity\"],allBird[\"eccentricity\"])\n",
    "all_solidity = ss.stats.f_oneway(allFish [\"solidity\"],allFrog[\"solidity\"],allBird[\"solidity\"])\n",
    "\n",
    "#comment: write this into a variable and use print for output\n",
    "print(all_areas)\n",
    "print(all_perimeter)\n",
    "print(all_eccentricity)\n",
    "print(all_solidity)\n"
   ]
  },
  {
   "cell_type": "code",
   "execution_count": 10,
   "id": "c784cbb1",
   "metadata": {},
   "outputs": [
    {
     "name": "stdout",
     "output_type": "stream",
     "text": [
      "          1    2         3\n",
      "1  1.000000  0.0  0.002339\n",
      "2  0.000000  1.0  0.000000\n",
      "3  0.002339  0.0  1.000000\n",
      "          1    2         3\n",
      "1  1.000000  0.0  0.000127\n",
      "2  0.000000  1.0  0.000000\n",
      "3  0.000127  0.0  1.000000\n",
      "              1    2             3\n",
      "1  1.000000e+00  0.0  3.040997e-08\n",
      "2  0.000000e+00  1.0  0.000000e+00\n",
      "3  3.040997e-08  0.0  1.000000e+00\n",
      "              1         2             3\n",
      "1  1.000000e+00  0.000651  5.129230e-14\n",
      "2  6.506290e-04  1.000000  0.000000e+00\n",
      "3  5.129230e-14  0.000000  1.000000e+00\n"
     ]
    }
   ],
   "source": [
    "post_areas = sp.posthoc_dunn(Areas_μm2, p_adjust = 'sidak') #etc. for the other measurements\n",
    "post_perimeter = sp.posthoc_dunn(Perimeter_μm, p_adjust = 'sidak')\n",
    "post_eccentricity = sp.posthoc_dunn(Eccentricities, p_adjust = 'sidak')\n",
    "post_solidity = sp.posthoc_dunn(Solidity, p_adjust = 'sidak')\n",
    "#comment: see above\n",
    "\n",
    "print(post_areas)\n",
    "print(post_perimeter)\n",
    "print(post_eccentricity)\n",
    "print(post_solidity)"
   ]
  },
  {
   "cell_type": "code",
   "execution_count": null,
   "id": "69a53394",
   "metadata": {},
   "outputs": [],
   "source": []
  }
 ],
 "metadata": {
  "kernelspec": {
   "display_name": "Python 3",
   "language": "python",
   "name": "python3"
  },
  "language_info": {
   "codemirror_mode": {
    "name": "ipython",
    "version": 3
   },
   "file_extension": ".py",
   "mimetype": "text/x-python",
   "name": "python",
   "nbconvert_exporter": "python",
   "pygments_lexer": "ipython3",
   "version": "3.8.8"
  }
 },
 "nbformat": 4,
 "nbformat_minor": 5
}
